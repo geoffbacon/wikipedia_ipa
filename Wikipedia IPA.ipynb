{
 "cells": [
  {
   "cell_type": "markdown",
   "metadata": {},
   "source": [
    "## Wikipedia IPA\n",
    "\n",
    "In this notebook, we find the IPA representation for English words by looking up their [Wiktionary](https://www.wiktionary.org/) page. A previous approach used Wikipedia pages and search the content for IPA. Here, we use the WikiMedia API and parse the output ourselves. Most Wiktionary pages have an IPA representation. Some words have many Wikipedia pages associted with them (e.g. [Python](https://en.wikipedia.org/wiki/Python)), and some pages have many IPA representations for their title (e.g. [Edinburgh](https://en.wikipedia.org/wiki/Edinburgh)). In these cases, I collect all IPA representations. For titles with no IPA, nothing is collected. We store everything in a `pandas` dataframe, and eventually save it to disk."
   ]
  },
  {
   "cell_type": "code",
   "execution_count": 86,
   "metadata": {
    "collapsed": true
   },
   "outputs": [],
   "source": [
    "import re\n",
    "import json\n",
    "import requests\n",
    "import pandas as pd\n",
    "import numpy as np\n",
    "from bs4 import BeautifulSoup"
   ]
  },
  {
   "cell_type": "code",
   "execution_count": 49,
   "metadata": {
    "collapsed": true
   },
   "outputs": [],
   "source": [
    "english_wiktionary = 'https://en.wiktionary.org/w/api.php?'"
   ]
  },
  {
   "cell_type": "code",
   "execution_count": 150,
   "metadata": {
    "collapsed": true
   },
   "outputs": [],
   "source": [
    "words = ['Australia']"
   ]
  },
  {
   "cell_type": "code",
   "execution_count": 151,
   "metadata": {
    "collapsed": false
   },
   "outputs": [],
   "source": [
    "titles = '|'.join(words)"
   ]
  },
  {
   "cell_type": "code",
   "execution_count": 152,
   "metadata": {
    "collapsed": false
   },
   "outputs": [],
   "source": [
    "params = {'action': 'query',\n",
    "          'format': 'jsonfm',\n",
    "         'titles': titles,\n",
    "         #'rvprop': 'content',\n",
    "         #'prop': 'revisions',\n",
    "         'redirects': True,\n",
    "          'formatversion': 2\n",
    "         }"
   ]
  },
  {
   "cell_type": "code",
   "execution_count": 153,
   "metadata": {
    "collapsed": false
   },
   "outputs": [],
   "source": [
    "r = requests.get(english_wiktionary, params)"
   ]
  },
  {
   "cell_type": "code",
   "execution_count": 154,
   "metadata": {
    "collapsed": false
   },
   "outputs": [
    {
     "data": {
      "text/plain": [
       "'<!DOCTYPE html>\\n<html class=\"client-nojs\" lang=\"en\" dir=\"ltr\">\\n<head>\\n<meta charset=\"UTF-8\"/>\\n<title>MediaWiki API result - Wiktionary</title>\\n<script>document.documentElement.className = document.documentElement.className.replace( /(^|\\\\s)client-nojs(\\\\s|$)/, \"$1client-js$2\" );</script>\\n<script>(window.RLQ=window.RLQ||[]).push(function(){mw.config.set({\"wgCanonicalNamespace\":\"Special\",\"wgCanonicalSpecialPageName\":\"ApiHelp\",\"wgNamespaceNumber\":-1,\"wgPageName\":\"Special:ApiHelp\",\"wgTitle\":\"ApiHelp\",\"wgCurRevisionId\":0,\"wgRevisionId\":0,\"wgArticleId\":0,\"wgIsArticle\":false,\"wgIsRedirect\":false,\"wgAction\":\"view\",\"wgUserName\":null,\"wgUserGroups\":[\"*\"],\"wgCategories\":[],\"wgBreakFrames\":false,\"wgPageContentLanguage\":\"en\",\"wgPageContentModel\":\"wikitext\",\"wgSeparatorTransformTable\":[\"\",\"\"],\"wgDigitTransformTable\":[\"\",\"\"],\"wgDefaultDateFormat\":\"dmy\",\"wgMonthNames\":[\"\",\"January\",\"February\",\"March\",\"April\",\"May\",\"June\",\"July\",\"August\",\"September\",\"October\",\"November\",\"December\"],\"wgMonthNamesShort\":[\"\",\"Jan\",\"Feb\",\"Mar\",\"Apr\",\"May\",\"Jun\",\"Jul\",\"Aug\",\"Sep\",\"Oct\",\"Nov\",\"Dec\"],\"wgRelevantPageName\":\"Special:ApiHelp\",\"wgRelevantArticleId\":0,\"wgRequestId\":\"WWJ-5wpAAE0AAB4KikwAAADD\",\"wgIsProbablyEditable\":false,\"wgRelevantPageIsProbablyEditable\":false,\"wgWikiEditorEnabledModules\":{\"toolbar\":true,\"preview\":false,\"publish\":false},\"wgBetaFeaturesFeatures\":[],\"wgMediaViewerOnClick\":true,\"wgMediaViewerEnabledByDefault\":false,\"wgVisualEditor\":{\"pageLanguageCode\":\"en\",\"pageLanguageDir\":\"ltr\",\"usePageImages\":true,\"usePageDescriptions\":true},\"wgPreferredVariant\":\"en\",\"wgMFExpandAllSectionsUserOption\":false,\"wgMFDisplayWikibaseDescriptions\":{\"search\":true,\"nearby\":true,\"watchlist\":true,\"tagline\":false},\"wgULSCurrentAutonym\":\"English\",\"wgNoticeProject\":\"wiktionary\",\"wgCentralNoticeCookiesToDelete\":[],\"wgCentralNoticeCategoriesUsingLegacy\":[\"Fundraising\",\"fundraising\"],\"wgCategoryTreePageCategoryOptions\":\"{\\\\\"mode\\\\\":0,\\\\\"hideprefix\\\\\":20,\\\\\"showcount\\\\\":true,\\\\\"namespaces\\\\\":false}\",\"wgCentralAuthMobileDomain\":false,\"wgVisualEditorToolbarScrollOffset\":0,\"wgVisualEditorUnsupportedEditParams\":[\"preload\",\"preloadparams\",\"preloadtitle\",\"undo\",\"undoafter\",\"veswitched\"],\"wgEditSubmitButtonLabelPublish\":true});mw.loader.state({\"ext.globalCssJs.user.styles\":\"ready\",\"ext.globalCssJs.site.styles\":\"ready\",\"site.styles\":\"ready\",\"noscript\":\"ready\",\"user.styles\":\"ready\",\"user\":\"ready\",\"user.options\":\"loading\",\"user.tokens\":\"loading\",\"mediawiki.apipretty\":\"ready\",\"ext.pygments\":\"ready\",\"ext.visualEditor.desktopArticleTarget.noscript\":\"ready\",\"ext.uls.interlanguage\":\"ready\",\"ext.wikimediaBadges\":\"ready\",\"mediawiki.legacy.shared\":\"ready\",\"mediawiki.legacy.commonPrint\":\"ready\",\"mediawiki.sectionAnchor\":\"ready\",\"mediawiki.skinning.interface\":\"ready\",\"ext.globalCssJs.user\":\"ready\",\"ext.globalCssJs.site\":\"ready\"});mw.loader.implement(\"user.options@0gii3s4\",function($,jQuery,require,module){mw.user.options.set([]);});mw.loader.implement(\"user.tokens@1dqfd7l\",function ( $, jQuery, require, module ) {\\nmw.user.tokens.set({\"editToken\":\"+\\\\\\\\\",\"patrolToken\":\"+\\\\\\\\\",\"watchToken\":\"+\\\\\\\\\",\"csrfToken\":\"+\\\\\\\\\"});/*@nomin*/;\\n\\n});mw.loader.load([\"site\",\"mediawiki.page.startup\",\"mediawiki.user\",\"mediawiki.hidpi\",\"mediawiki.page.ready\",\"mediawiki.searchSuggest\",\"ext.gadget.LegacyScripts\",\"ext.gadget.JavascriptHeadings\",\"ext.gadget.DocTabs\",\"ext.gadget.BlockInfo\",\"ext.gadget.RevdelInfo\",\"ext.gadget.CodeLinks\",\"ext.centralauth.centralautologin\",\"ext.visualEditor.desktopArticleTarget.init\",\"ext.visualEditor.targetLoader\",\"ext.eventLogging.subscriber\",\"ext.wikimediaEvents\",\"ext.navigationTiming\",\"ext.uls.eventlogger\",\"ext.uls.init\",\"ext.uls.compactlinks\",\"ext.uls.interface\",\"ext.centralNotice.geoIP\"]);});</script>\\n<link rel=\"stylesheet\" href=\"/w/load.php?debug=false&amp;lang=en&amp;modules=ext.pygments%2CwikimediaBadges%7Cext.uls.interlanguage%7Cext.visualEditor.desktopArticleTarget.noscript%7Cmediawiki.apipretty%2CsectionAnchor%7Cmediawiki.legacy.commonPrint%2Cshared%7Cmediawiki.skinning.interface&amp;only=styles&amp;skin=apioutput\"/>\\n<script async=\"\" src=\"/w/load.php?debug=false&amp;lang=en&amp;modules=startup&amp;only=scripts&amp;skin=apioutput\"></script>\\n<meta name=\"ResourceLoaderDynamicStyles\" content=\"\"/>\\n<link rel=\"stylesheet\" href=\"/w/load.php?debug=false&amp;lang=en&amp;modules=site.styles&amp;only=styles&amp;skin=apioutput\"/>\\n<meta name=\"generator\" content=\"MediaWiki 1.30.0-wmf.7\"/>\\n<meta name=\"referrer\" content=\"origin-when-cross-origin\"/>\\n<link rel=\"apple-touch-icon\" href=\"/static/apple-touch/wiktionary/en.png\"/>\\n<link rel=\"shortcut icon\" href=\"/static/favicon/wiktionary/en.ico\"/>\\n<link rel=\"search\" type=\"application/opensearchdescription+xml\" href=\"/w/opensearch_desc.php\" title=\"Wiktionary (en)\"/>\\n<link rel=\"EditURI\" type=\"application/rsd+xml\" href=\"//en.wiktionary.org/w/api.php?action=rsd\"/>\\n<link rel=\"copyright\" href=\"//creativecommons.org/licenses/by-sa/3.0/\"/>\\n<link rel=\"alternate\" type=\"application/atom+xml\" title=\"Wiktionary Atom feed\" href=\"/w/index.php?title=Special:RecentChanges&amp;feed=atom\"/>\\n<link rel=\"canonical\" href=\"https://en.wiktionary.org/wiki/Special:ApiHelp\"/>\\n<link rel=\"dns-prefetch\" href=\"//login.wikimedia.org\"/>\\n</head>\\n<body class=\"mediawiki ltr sitedir-ltr mw-hide-empty-elt ns--1 ns-special mw-special-ApiHelp page-Special_ApiHelp rootpage-Special_ApiHelp skin-apioutput action-view\">\\n\\t\\t<div class=\"mw-body\" role=\"main\">\\n\\t\\t\\t<h1 class=\"firstHeading\">MediaWiki API result</h1>\\n\\t\\t\\t<div class=\"mw-body-content\">\\n\\t\\t\\t\\t<div id=\"mw-content-text\"><div class=\"api-pretty-header\"><p>This is the HTML representation of the JSON format. HTML is good for debugging, but is unsuitable for application use.\\n</p><p>Specify the <var>format</var> parameter to change the output format. To see the non-HTML representation of the JSON format, set <a class=\"external text\" href=\"https://en.wiktionary.org/w/api.php?formatversion=2&amp;redirects=True&amp;titles=Australia&amp;action=query&amp;format=json\"><kbd>format=json</kbd></a>.\\n</p><p>See the <a href=\"https://www.mediawiki.org/wiki/API\" class=\"extiw\" title=\"mw:API\">complete documentation</a>, or the <a href=\"/w/api.php?action=help&amp;modules=main\">API help</a> for more information.\\n</p></div><div dir=\"ltr\"><div class=\"mw-highlight\"><pre><span></span><span class=\"p\">{</span>\\n    <span class=\"s2\">&quot;batchcomplete&quot;</span><span class=\"o\">:</span> <span class=\"kc\">true</span><span class=\"p\">,</span>\\n    <span class=\"s2\">&quot;query&quot;</span><span class=\"o\">:</span> <span class=\"p\">{</span>\\n        <span class=\"s2\">&quot;pages&quot;</span><span class=\"o\">:</span> <span class=\"p\">[</span>\\n            <span class=\"p\">{</span>\\n                <span class=\"s2\">&quot;pageid&quot;</span><span class=\"o\">:</span> <span class=\"mi\">2950</span><span class=\"p\">,</span>\\n                <span class=\"s2\">&quot;ns&quot;</span><span class=\"o\">:</span> <span class=\"mi\">0</span><span class=\"p\">,</span>\\n                <span class=\"s2\">&quot;title&quot;</span><span class=\"o\">:</span> <span class=\"s2\">&quot;Australia&quot;</span>\\n            <span class=\"p\">}</span>\\n        <span class=\"p\">]</span>\\n    <span class=\"p\">}</span>\\n<span class=\"p\">}</span>\\n</pre></div>\\n</div><noscript><img src=\"//en.wiktionary.org/wiki/Special:CentralAutoLogin/start?type=1x1\" alt=\"\" title=\"\" width=\"1\" height=\"1\" style=\"border: none; position: absolute;\" /></noscript></div><div class=\"printfooter\">\\nRetrieved from \"<a dir=\"ltr\" href=\"https://en.wiktionary.org/wiki/Special:ApiHelp\">https://en.wiktionary.org/wiki/Special:ApiHelp</a>\"</div>\\n\\t\\t\\t</div>\\n\\t\\t</div>\\n\\n\\t\\t<script>(window.RLQ=window.RLQ||[]).push(function(){mw.config.set({\"wgBackendResponseTime\":182,\"wgHostname\":\"mw1282\"});});</script>\\t\\t</body></html>\\n'"
      ]
     },
     "execution_count": 154,
     "metadata": {},
     "output_type": "execute_result"
    }
   ],
   "source": [
    "r.text"
   ]
  },
  {
   "cell_type": "code",
   "execution_count": 148,
   "metadata": {
    "collapsed": false
   },
   "outputs": [],
   "source": [
    "j = json.loads(r.text)"
   ]
  },
  {
   "cell_type": "code",
   "execution_count": 149,
   "metadata": {
    "collapsed": false
   },
   "outputs": [
    {
     "data": {
      "text/plain": [
       "{'ns': 0,\n",
       " 'pageid': 2950,\n",
       " 'revisions': [{'content': \"{{also|Austrália|Austràlia|australia|australià}}\\n==English==\\n{{wikipedia}}\\n[[Image:Australia satellite plane.jpg|thumb|Satellite image of Australia (English def. 1)]]\\n\\n===Etymology===\\n{{PIE root|en|h₂ews}}\\nFirst attested 16th century, from {{etyl|la|en}} {{m|la|terra austrālis incōgnita||unknown southern land}}, from {{m|la|auster||the south wind}}. Used also in 1693 (quotation below). Popularised by {{w|Matthew Flinders}} in 1814 (quotation below).\\n\\nDistantly cognate to {{m|en|Austria}} – same Proto-Indo-European root, but via German where it retained the earlier sense of “east” rather than “south”.\\n\\nSee also [[Terra Australis]].\\n\\n===Pronunciation===\\n* {{a|AU|Macquarie Dictionary}} {{IPA|/ɒˈstɹeɪl.jə/|/əˈstɹeɪl.jə/|lang=en}}\\n* {{a|AU}} {{IPA|/əˈstɹæɪ.ljə/|/əˈstɹæɪ.liː.ə/|/əˈstɹæɪ.jə/|lang=en}}\\n* {{audio|en-au-Australia.ogg|Audio (Australia)|lang=en}}\\n* {{a|Tasmanian}} {{IPA|/əˈstɹɛ.liː.ə/|lang=en}}\\n* {{a|RP}} {{IPA|/ɒˈstɹeɪ.liː.ə/|/ɒˈstɹeɪ.li.jə/|lang=en}}\\n* {{a|GenAm}} {{IPA|/ɔˈstɹeɪ.li.ə/|/ɔˈstɹeɪl.jə/|lang=en}}\\n* {{a|cot-caught|Canada}} {{IPA|/ɑˈstɹeɪ.li.ə/|/ɑˈstɹeɪl.jə/|lang=en}}\\n* {{audio|en-us-Australia.ogg|Audio (US)|lang=en}}\\n* {{rhymes|eɪliə|lang=en}}\\n\\n===Proper noun===\\n{{en-proper noun}}\\n\\n# {{senseid|en|Q408}}A country in [[Oceania]]. Official name: [[Commonwealth of Australia]].\\n#* '''1693''': translation of a French novel by Jacques Sadeur (believed to be a pen name of [[w:Gabriel de Foigny|Gabriel de Foigny]]) titled ''Les Aventures de Jacques Sadeur dans la Découverte et le Voiage de la Terre Australe'' published 1692, translation published in [[London]] in 1693. Quoted in ''The Australian Language'' by Sidney J. Baker, second edition, 1966, chapter XIX, section 1, pages 388-9.\\n#*: ''This is all that I can have a certain knowledge of as to that side of '''Australia''' ...''\\n<!-- w:Gabriel de Foigny is currently a redlink, but one which also appears in w:French literature of the 17th century, so might hopefully get something one day -->\\n#* '''1814''', {{w|Matthew Flinders}}, ''A Voyage to Terra Australis'', volume 1 ([http://www.gutenberg.org/etext/12929 at Project Gutenberg])\\n#*: ''Had I permitted myself any innovation upon the original term, it would have been to convert it into '''AUSTRALIA'''; as being more agreeable to the ear, and an assimilation to the names of the other great portions of the earth.''\\n# {{senseid|en|Q3960}}{{lb|en|geology}} The [[continent]] of Australia-New Guinea. [[New Guinea]] and the intervening islands are also on the Australian tectonic plate and are thus geologically considered part of the continent.\\n\\n====Synonyms====\\n* {{sense|country}} {{l|en|Aussie}} {{qualifier|colloquial}}, [[Aussieland]] {{qualifier|colloquial}}, [[land down under]], [[New Holland]] {{qualifier|historial}}, [[Oz]] {{qualifier|colloquial}}, [[Terra Australis]] {{qualifier|historical}}\\n* {{sense|continent}} {{l|en|Meganesia}}, {{l|en|Sahul}}\\n\\n====Hypernyms====\\n* {{l|en|Antipodes}}\\n\\n====Derived terms====\\n{{der3|lang=en\\n|Aussie\\n|Australasia\\n|Australia Day\\n|Australia Felix\\n|Australian\\n|Australianism\\n|Eastralia\\n|Order of Australia\\n|South Australia\\n|Western Australia\\n|Westralia\\n}}\\n\\n====Related terms====\\n* {{l|en|Austria}}\\n* {{l|en|Austrasie}}\\n\\n====Translations====\\n{{trans-top|id=Q408|Commonwealth of Australia}}\\n* Abkhaz: {{t|ab|Австралиа|sc=Cyrl}}\\n* Afrikaans: {{t|af|Australië}}\\n* Albanian: {{t|sq|Australi|f}}\\n* Amharic: {{t|am|አውስትራልያ}}\\n* Arabic: {{t|ar|أُسْتُرَالِيَا|f}}\\n* Aragonese: {{t|an|Australia|f}}\\n* Armenian: {{t|hy|Ավստրալիա}}\\n* Asturian: {{t+|ast|Australia|f}}\\n* Azeri: {{t+|az|Avstraliya}}\\n* Bashkir: {{t|ba|Австралия}}\\n* Basque: {{t+|eu|Australia}}\\n* Belarusian: {{t|be|Аўстра́лія|f}}\\n* Bengali: {{t+|bn|অস্ট্রেলিয়া|sc=Beng}}\\n* Bislama: {{t|bi|Ostrelia}}\\n* Breton: {{t|br|Aostralia}}\\n* Bulgarian: {{t|bg|Австра́лия|f}}\\n* Burmese: {{t|my|ဩစတြေးလျ|sc=Mymr}}\\n* Catalan: {{t+|ca|Austràlia|f}}\\n* Chechen: {{t|ce|Австрали}}\\n* Cherokee: {{t|chr|ᎡᎳᏗᏝ|sc=Cher}}\\n* Chinese:\\n*: Cantonese: {{t|yue|澳洲|tr=ou3 zau1|sc=Hani}}, {{t|yue|澳大利亞|sc=Hani}}, {{t|yue|澳大利亚|tr=ou3 daai6 lei6 aa3|sc=Hani}}\\n*: Mandarin: {{t+|cmn|澳洲|tr=Àozhōu|sc=Hani}}, {{t+|cmn|澳大利亞|sc=Hani}}, {{t+|cmn|澳大利亚|tr=Aòdàlìyà|sc=Hani}}\\n*: Min Nan: {{t|nan|澳洲|tr=Ò-chiu|sc=Hani}}, {{t+|nan|澳大利亞|sc=Hani}}, {{t+|nan|澳大利亚|tr=Ò-tāi-lī-a|sc=Hani}}\\n* Chuvash: {{t|cv|Австрали|sc=Cyrl}}\\n* Cornish: {{t|kw|Ostrali}}\\n* Crimean Tatar: {{t|crh|Avstraliya}}\\n* Czech: {{t+|cs|Austrálie|f}}\\n* Danish: {{t+|da|Australien}}\\n* Dhivehi: {{t|dv|އޮސްޓަރުލިޔާ|sc=Thaa}}\\n* Dinka: {{t-needed|din}}\\n* Dutch: {{t+|nl|Australië}}\\n* Dzongkha: {{t|dz|ཨས་ཊེཡེ་ལི་ཡ|sc=Tibt}}\\n* Esperanto: {{t+|eo|Aŭstralio}}\\n* Estonian: {{t+|et|Austraalia}}, {{t|et|Austraalia Ühendus}}\\n* Faroese: {{t|fo|Avstralia|n}}\\n* Fiji Hindi: {{t|hif|Australia}}\\n* Finnish: {{t+|fi|Australia}}, {{t|fi|Australian liittovaltio}}\\n* French: {{t+|fr|Australie|f}}\\n* Galician: {{t+|gl|Australia|f}}\\n* Georgian: {{t|ka|ავსტრალია|sc=Geor}}\\n* German: {{t+|de|Australien|n}}\\n*: Alemannic German: {{t|gsw|Australien}}\\n* Greek: {{t+|el|Αυστραλία|f}}\\n* Gujarati: {{t|gu|ઓસ્ટ્રેલિયા|tr=osṭreliyā|sc=Gujr}}\\n* Hawaiian: {{t|haw|ʻAukekulelia}}\\n* Hebrew: {{t+|he|אוֹסְטְרַלְיָה|f|tr=ostrálya}}\\n* Hindi: {{t+|hi|ऑस्ट्रेलिया}}, {{t|hi|आस्ट्रेलिया}}, {{t|hi|ओस्ट्रेलिया}}\\n* Hungarian: {{t+|hu|Ausztrália}}\\n* Icelandic: {{t+|is|Ástralía|f}}\\n* Indonesian: {{t+|id|Australia}}\\n* Interlingua: {{t|ia|Australia}}\\n* Irish: {{t|ga|Astráil|f|alt=An Astráil}}\\n* Italian: {{t+|it|Australia|f}}\\n* Japanese: {{t+|ja|オーストラリア|tr=Ōsutoraria}} (''also written:'' {{t+|ja|濠太剌利|tr=Ōsutoraria}}), {{qualifier|rare}} {{t|ja|濠洲|tr=Gōshū}}, {{t+|ja|豪州|tr=ごうしゅう, Gōshū}}, {{qualifier|abbreviation}} {{t+|ja|濠|tr=ごう, Gō}}, {{t+|ja|豪|tr=ごう, Gō}}\\n* Kalenjin: {{t|kln|Australia}}\\n* Kamba: {{t|kam|Australia}}\\n* Kannada: {{t|kn|ಆಸ್ಟ್ರೆಲಿಯ|sc=Knda}}, {{t+|kn|ಆಸ್ಟ್ರೇಲಿಯ|sc=Knda}}\\n* Karachay-Balkar: {{t|krc|Австралия|tr=Avstraliya|sc=Cyrl}}\\n* Kazakh: {{t+|kk|Австралия|sc=Cyrl}}, {{qualifier|official name}} {{t|kk|Австралия Одағы|sc=Cyrl}}\\n* Khmer: {{t+|km|អូស្ត្រាលី|tr=oostraalii|sc=Khmr}}\\n* Kikuyu: {{t|ki|Australia}}\\n* Korean: {{t|ko|^오스트레일리아}}, {{t|ko|^호주}} ({{t|ko|濠州}})\\n* Kyrgyz: {{t+|ky|Австралия|sc=Cyrl}}\\n* Lao: {{t|lo|ອົດສະຕາລີ|sc=Laoo}}, {{t|lo|ອົສຕາລີ|sc=Laoo}}, {{t|lo|ອົດສະຕຣາລີ}}\\n* Latin: {{t+|la|Australia|f}}\\n* Latvian: {{t|lv|Austrālija|f}}\\n* Lithuanian: {{t+|lt|Australija}}\\n* Lower Sorbian: {{t|dsb|Awstralska}}\\n* Luhya: {{t|luy|Australia}}\\n* Luo: {{t|luo|Australia}}\\n* Macedonian: {{t+|mk|Австра́лија|f}}\\n{{trans-mid}}\\n* Malagasy: {{t|mg|Aostralia}}\\n* Malay: {{t|ms|Australia}}\\n* Malayalam: {{t|ml|ആസ്ട്രേലിയ|sc=Mlym}}, {{t|ml|ഓസ്ട്രേലിയ|sc=Mlym}}\\n* Maltese: {{t|mt|Awstralja|f}}\\n* Manx: {{t|gv|Austrail|f|alt=Yn Austrail}}\\n* Maori: {{t|mi|Ahitereiria}}\\n* Marathi: {{t|mr|ऑस्ट्रेलिया|sc=Deva}}, {{t|mr|ओस्ट्रेलिया|sc=Deva}}\\n* Moksha: {{t|mdf|Австралие}}\\n* Molise Croatian: {{t|svm|Lauštralija|f}}\\n* Mongolian: {{t|mn|Австрали улс|sc=Cyrl}}, {{t|mn|Австрали|sc=Cyrl}}\\n* Nahuatl: {{t|nah|Australia}}\\n* Nauruan: {{t|na|Otereiriya}}\\n* Navajo: {{t|nv|Nahatʼeʼiitsoh bikéyah}}\\n* Nepali: {{t|ne|अस्ट्रेलिया|tr=asṭreliyā|sc=Deva}}\\n* Norman: {{t|nrf|Australie|f}}\\n* Norwegian: {{t+|no|Australia}}\\n* Occitan: {{t|oc|Australia|f}}\\n* Oriya: {{t|or|ଅଷ୍ଟ୍ରେଲିଆ|tr=ôṣṭreliā|sc=Orya}}\\n* Ossetian: {{t|os|Австрали|sc=Cyrl}}\\n* Pashto: {{t|ps|اسټراليا|f|tr=asttrālyā|sc=ps-Arab}}\\n* Persian: {{t+|fa|استرالیا|tr=ostorâliyâ}}\\n* Polish: {{t+|pl|Australia|f}}\\n* Portuguese: {{t+|pt|Austrália|f}}\\n* Pukapukan: {{t|pkp|Oteleilia}}\\n* Punjabi: {{t|pa|ਆਸਟ੍ਰੇਲੀਆ|sc=Guru}}\\n* Romanian: {{t+|ro|Australia|f}}\\n* Russian: {{t+|ru|Австра́лия|f}}\\n* Rusyn: {{t|rue|Австра́лія|f|sc=Cyrl}}\\n* Sanskrit: {{t|sa|महालंका}}\\n* Scottish Gaelic: {{t|gd|Astràilia}}\\n* Serbo-Croatian:\\n*: Cyrillic: {{t|sh|Аустралија|f|sc=Cyrl}}\\n*: Roman: {{t+|sh|Australija|f}}\\n* Shan: {{t|shn|ဢေႃႇၸတြေးလီးယိူဝ်း}}\\n* Sinhalese: {{t|si|ඕස්ට්\\u200dරේලියාව|sc=Sinh}}\\n* Slovak: {{t+|sk|Austrália|f}}\\n* Slovene: {{t+|sl|Avstrálija|f}}\\n* Sorbian:\\n*: Upper Sorbian: {{t|hsb|Awstralska|f}}\\n* Spanish: {{t+|es|Australia|f}}\\n* Swahili: {{t+|sw|Australia}}\\n* Swedish: {{t+|sv|Australien}}\\n* Tagalog: {{t|tl|Australia}}\\n* Tahitian: {{t|ty|Autereraria}}, {{t|ty|Auterāria}}\\n* Tajik: {{t+|tg|Австралия|sc=Cyrl}}\\n* Tamil: {{t+|ta|அவுஸ்திரேலியா}}, {{t+|ta|ஆஸ்திரேலியா}}\\n* Tatar: {{t|tt|Австралия|sc=Cyrl}}\\n* Telugu: {{t+|te|ఆస్ట్రేలియా}}\\n* Thai: {{t+|th|ออสเตรเลีย}}\\n* Tibetan: {{t|bo|ཨོ་སེ་ཐེ་ལི་ཡ|sc=Tibt}}\\n* Tigrinya: {{t|ti|ኣውስትራሊያ|sc=Ethi}}\\n* Tok Pisin: {{t|tpi|Ostrelia}}\\n* Tongan: {{t|to|ʻAositelēlia}}\\n* Turkish: {{t+|tr|Avustralya}}\\n* Turkmen: {{t|tk|Awstraliýa}}\\n* Ukrainian: {{t+|uk|Австра́лія|f}}\\n* Urdu: {{t|ur|آسٹریلیا|tr=āsṭreliyā}}\\n* Uyghur: {{t|ug|ئاۋسترالىيە|sc=ug-Arab}}\\n* Uzbek: {{t+|uz|Avstraliya}}\\n* Veps: {{t|vep|Avstralii}}\\n* Vietnamese: {{t+|vi|Úc}} ({{t|vi|澳}}), {{t|vi|Úc Đại Lợi}} ({{t|vi|澳大利}}), {{t|vi|Châu Úc}} ({{t|vi|洲澳}}), {{t|vi|Úc Châu}} ({{t|vi|澳洲}}), {{t|vi|Ô-xtrây-li-a}}, {{t|vi|[[nước]] [[Úc]]}}, {{t+|vi|Australia}}\\n* Volapük: {{t+|vo|Laustralän}}\\n* Walloon: {{t|wa|Ostraleye}}\\n* Welsh: {{t+|cy|Awstralia}}\\n* Western Panjabi: {{t|pnb|آسٹریلیا|tr=āsṫreliya}}\\n* Wolof: {{t|wo|Óstraali}}\\n* Yakut: {{t|sah|Аустралия|sc=Cyrl}}\\n* Yiddish: {{t|yi|אויסטראַליע|sc=Hebr}}\\n* Zazaki: {{qualifier|Southern Zazaki}} {{t|zza|Awıstralya}}\\n* Zhuang: {{t|za|Audaihleihya}}\\n* Zulu: {{t|zu|I-Ostreliya}}\\n{{trans-bottom}}\\n\\n{{trans-top|id=Q3960|continent of Australia}}\\n* Armenian: {{t|hy|Ավստրալիա|sc=Armn}}\\n* Belarusian: {{t|be|Аўстра́лія|f|sc=Cyrl}}\\n* Bengali: {{t+|bn|অস্ট্রেলিয়া|sc=Beng}}\\n* Burmese: {{t|my|ဩစတြေးလျ|sc=Mymr}}\\n* Catalan: {{t+|ca|Austràlia|f}}\\n* Chinese:\\n*: Mandarin: {{t+|cmn|澳洲|tr=Àozhōu|sc=Hani}}\\n* Czech: {{t+|cs|Austrálie|f}}\\n* Danish: {{t+|da|Australien}}\\n* Dutch: {{t+|nl|Australië}}\\n* Estonian: {{t+|et|Austraalia}}\\n* Finnish: {{t+|fi|Australia}}, '''Australian''' [[manner#Finnish|manner]]\\n* French: {{t+|fr|Australie|f}}\\n* Galician: {{t+|gl|Australia|f}}\\n* Gamilaraay: {{t|kld|Yarraanbaa}}\\n* Georgian: {{t|ka|ავსტრალია}}\\n* German: {{t+|de|Australien}}\\n* Hawaiian: {{t|haw|ʻAukekulelia}}\\n* Hebrew: {{t+|he|אוֹסְטְרַלְיָה|f|tr=ostrálya}}\\n* Hindi: {{t+|hi|ऑस्ट्रेलिया}}, {{t|hi|आस्ट्रेलिया}}, {{t|hi|ओस्ट्रेलिया}}\\n* Hungarian: {{t+|hu|Ausztrália}}\\n* Icelandic: {{t+|is|Ástralía|f}}\\n* Irish: {{t|ga|Astráil|f|alt=An Astráil}}\\n* Japanese: {{t|ja|[[オーストラリア]][[大陸]]|tr=Ōsutoraria tairiku}}\\n* Khmer: {{t|km|អូសេអានី|sc=Khmr|tr=oosee’aanii}}, {{t+|km|អូស្ត្រាលី|sc=Khmr|tr=oostraalii}}\\n{{trans-mid}}\\n* Korean: {{t|ko|^오스트레일리아}}\\n* Macedonian: {{t+|mk|Австра́лија|f}}\\n* Malay: {{t|ms|Australia}}\\n* Manx: {{t|gv|Austrail|f|alt=Yn Austrail}}\\n* Norman: {{t|nrf|Australie|f}}\\n* Norwegian: {{t+|no|Australia}}\\n* Pashto: {{t|ps|اسټراليا|f|tr=asttrālyā|sc=ps-Arab}}\\n* Polish: {{t+|pl|Australia|f}}\\n* Portuguese: {{t+|pt|Austrália|f}}\\n* Romanian: {{t+|ro|Australia|f}}\\n* Russian: {{t+|ru|Австра́лия|f}}\\n* Serbo-Croatian:\\n*: Cyrillic: {{t|sh|Аустралија|f|sc=Cyrl}}\\n*: Roman: {{t+|sh|Australija|f}}\\n* Slovak: {{t+|sk|Austrália|f}}\\n* Slovene: {{t+|sl|Avstrálija|f}}\\n* Sorbian:\\n*: Upper Sorbian: {{t|hsb|Awstralija|f}}\\n* Spanish: {{t+|es|Australia|f}}\\n* Swedish: {{t+|sv|Australien}}\\n* Telugu: {{t+|te|ఆస్ట్రేలియా}}\\n* Thai: {{t+|th|ออสเตรเลีย}}\\n* Turkish: {{t+|tr|Avustralya}}\\n* Vietnamese: {{t|vi|Châu Úc}} ({{t|vi|洲澳}}), {{t|vi|Úc Châu}} ({{t|vi|澳洲}}), {{t+|vi|Úc}} ({{t|vi|澳}})\\n* Volapük: {{t+|vo|Stralop}}\\n{{trans-bottom}}\\n\\n===See also===\\n* {{list:continents/en}}\\n* {{l|en|AU}}\\n* {{l|en|Aust}}\\n* {{l|en|Appendix:Countries of the world|Countries of the world}}\\n\\n===Further reading===\\n* [http://www.worldtimezone.com/time-australia24.php Australia time zones] with map and map current local time in Australia.\\n\\n[[Category:English words suffixed with -ia]]\\n[[Category:en:Australia]]\\n[[Category:en:Continents]]\\n[[Category:en:Countries of Oceania]]\\n\\n----\\n\\n==Albanian==\\n{{wikipedia|lang=sq}}\\n\\n===Proper noun===\\n{{sq-proper noun|f}}\\n\\n# {{inflection of|Australi||definite|nom|lang=sq}}\\n\\n[[Category:sq:Countries]]\\n\\n----\\n\\n==Asturian==\\n{{wikipedia|lang=ast}}\\n\\n===Proper noun===\\n{{ast-proper noun|f}}\\n\\n# {{l|en|Australia}}\\n\\n====Related terms====\\n* {{l|ast|australianu}}\\n\\n[[Category:ast:Continents]]\\n[[Category:ast:Countries]]\\n\\n----\\n\\n==Basque==\\n\\n===Proper noun===\\n{{head|eu|proper noun}}\\n\\n# {{l|en|Australia}} {{gloss|country}}\\n\\n====Declension====\\n{{eu-decl-prop inanim noun-a|AWW=Australi|a=1}}\\n\\n====Related terms====\\n* [[australiar]]\\n\\n[[Category:eu:Countries]]\\n\\n----\\n\\n==Finnish==\\n\\n===Pronunciation===\\n* {{fi-IPA|austraalia}} {{qualifier|usually}}\\n* {{fi-IPA}} {{qualifier|spelling pronunciation}}\\n* {{hyphenation|Aust|ra|li|a|lang=fi}}\\n\\n===Proper noun===\\n{{fi-proper noun}}\\n\\n# {{l|en|Australia}}\\n\\n====Declension====\\n{{fi-decl-kulkija|n=sg|Australi|a}}\\nIn Australia = [[Australiassa]].\\n\\n====Related terms====\\n* {{l|fi|australialainen}}\\n* {{l|fi|australialaisuus}}\\n\\n[[Category:fi:Continents]]\\n[[Category:fi:Countries]]\\n\\n----\\n\\n==Galician==\\n{{wikipedia|lang=gl}}\\n\\n===Proper noun===\\n{{gl-proper noun|f}}\\n\\n# {{l|en|Australia}}\\n\\n====Related terms====\\n* {{l|gl|australiano}}\\n\\n[[Category:gl:Continents]]\\n[[Category:gl:Countries]]\\n\\n----\\n\\n==Ido==\\n\\n===Proper noun===\\n{{head|io|proper noun}}\\n\\n# [[Australia]]\\n\\n====See also====\\n* {{list:continents/io}}\\n\\n[[Category:io:Continents]]\\n\\n----\\n\\n==Indonesian==\\n\\n===Proper noun===\\n{{head|id|proper noun}}\\n\\n# {{l|en|Australia}} {{gloss|country}}\\n\\n[[Category:id:Countries]]\\n\\n----\\n\\n==Interlingua==\\n\\n===Proper noun===\\n{{head|ia|proper noun}}\\n\\n# {{l|en|Australia}} {{gloss|country}}\\n\\n[[Category:ia:Countries]]\\n\\n----\\n\\n==Italian==\\n{{wikipedia|lang=it}}\\n\\n===Proper noun===\\n{{it-proper noun|g=f}}\\n\\n# {{l|en|Australia}}\\n\\n====Derived terms====\\n* {{l|it|australiano}}\\n\\n===Anagrams===\\n* {{l|it|saltuaria}}\\n\\n[[Category:it:Countries]]\\n\\n----\\n\\n==Latin==\\n\\n===Pronunciation===\\n* {{la-IPA|Austrālia}}\\n\\n===Proper noun===\\n{{la-proper noun|Austrālia|Austrāliae|f|first}}\\n\\n# {{lb|la|New Latin}} {{l|en|Australia}}\\n\\n====Derived terms====\\n* {{l|la|austrāliēnsis}}, {{l|la|austrāliānus}}\\n\\n====Inflection====\\n{{la-decl-1st|num=sg|Austrāli}}\\n\\n[[Category:la:Countries]]\\n\\n----\\n\\n==Malay==\\n\\n===Etymology===\\nFrom {{etyl|en|ms}} {{m|en|Australia}}, from {{etyl|la|ms}} {{m|la|terra austrālis incōgnita||unknown southern land}}, from {{m|la|auster||the south wind}}.\\n\\n===Pronunciation===\\n* {{a|Johor-Selangor}} {{IPA|/au̯straliə/|lang=ms}}\\n* {{a|Riau-Lingga}} {{IPA|/au̯stralia/|lang=ms}}\\n* {{rhymes|iə|ə|lang=ms}}\\n\\n===Proper noun===\\n{{head|ms|proper noun}}\\n\\n# {{l|en|Australia}} {{gloss|country}}\\n\\n[[Category:ms:Countries]]\\n\\n----\\n\\n==Norwegian Bokmål==\\n{{wikipedia|lang=no}}\\n\\n===Pronunciation===\\n* {{IPA|/æʉstɾɑːljɑ/|lang=no}}\\n\\n===Proper noun===\\n{{head|nb|proper noun}}\\n\\n# {{l|en|Australia}} {{qualifier|country}}\\n# {{l|en|Australia}} {{qualifier|continent}}\\n\\n====Related terms====\\n* {{l|nb|australier}}\\n* {{l|nb|australsk}}\\n\\n===See also===\\n* {{list:continents/no}}\\n\\n[[Category:nb:Countries]]\\n\\n----\\n\\n==Norwegian Nynorsk==\\n{{wikipedia|lang=nn}}\\n\\n===Proper noun===\\n{{head|nn|proper noun}}\\n\\n# {{l|en|Australia}} {{qualifier|country}}\\n# {{l|en|Australia}} {{qualifier|continent}}\\n\\n====Related terms====\\n* {{l|nn|australiar}}\\n* {{l|nn|australsk}}\\n\\n[[Category:nn:Countries]]\\n\\n----\\n\\n==Polish==\\n\\n===Pronunciation===\\n* {{pl-IPA|/Australia/}}\\n* {{audio|Pl-Australia.ogg|Audio|lang=pl}}\\n\\n===Proper noun===\\n{{head|pl|proper noun|g=f}}\\n\\n# {{l|en|Australia}}\\n\\n====Declension====\\n{{pl-decl-noun-sing|Australia\\n|Australii\\n|Australii\\n|Australię\\n|Australią\\n|Australii\\n|Australio\\n}}\\n\\n====Derived terms====\\n* [[Australijczyk]] {{g|m}}, [[Australijka]] {{g|f}}\\n* adjective: [[australijski]]\\n\\n===Further reading===\\n* {{R:PWN}}\\n\\n[[Category:pl:Countries]]\\n\\n----\\n\\n==Romanian==\\n{{wikipedia|lang=ro}}\\n\\n===Proper noun===\\n{{ro-proper noun|f}}\\n\\n# {{place|ro|country|continent/Oceania|t1=Australia}}\\n# {{place|ro|continent|t1=Australia}}\\n\\n====Declension====\\n{{ro-noun-f-ie|Australi|n=sg}}\\n\\n====See also====\\n* {{list:continents/ro}}\\n\\n----\\n\\n==Spanish==\\n{{wikipedia|lang=es}}\\n\\n===Proper noun===\\n{{es-proper noun|f}}\\n\\n# {{l|en|Australia}}\\n\\n====Related terms====\\n* [[australiano]], [[australiana]]\\n\\n[[Category:es:Continents]]\\n[[Category:es:Countries]]\\n\\n----\\n\\n==Swahili==\\n\\n===Proper noun===\\n{{head|sw|proper noun}}\\n\\n# {{l|en|Australia}}\\n\\n[[Category:sw:Countries]]\\n\\n----\\n\\n==Tagalog==\\n\\n===Proper noun===\\n{{head|tl|proper noun}}\\n\\n# {{l|en|Australia}} {{gloss|country}}\\n\\n[[Category:tl:Countries]]\",\n",
       "   'contentformat': 'text/x-wiki',\n",
       "   'contentmodel': 'wikitext'}],\n",
       " 'title': 'Australia'}"
      ]
     },
     "execution_count": 149,
     "metadata": {},
     "output_type": "execute_result"
    }
   ],
   "source": [
    "j['query']['pages'][0]"
   ]
  },
  {
   "cell_type": "markdown",
   "metadata": {},
   "source": [
    "The first thing we want is a function that will take in a word, get the Wikipedia page for that word, and look through the HTML for the IPA. We embed all the logic in a `try` clause, so that if anything goes wrong, it just returns some  null value."
   ]
  },
  {
   "cell_type": "code",
   "execution_count": 2,
   "metadata": {
    "collapsed": false
   },
   "outputs": [],
   "source": [
    "def get_ipa(title):\n",
    "    \"\"\"Return the IPA representation of `title` from Wikipedia.\n",
    "    \n",
    "    Some pages have no IPA, in which case its IPA representation \n",
    "    is the empty string. Some pages have more than one IPA representation.\n",
    "    In this case, all representations are returned. If there is more \n",
    "    than one Wikipedia page related to `title`, the IPA representations \n",
    "    for all pages are returned.\n",
    "    \n",
    "    IPA representations are marked in the HTML of the Wikipedia pages \n",
    "    as such. However, getting the HTML is a slow process.\n",
    "    \n",
    "    NB: To get the IPA from other languages' Wikipedias, we only need \n",
    "    to change the way IPA is identified in the HTML (e.g. French uses `API`.)\n",
    "    \n",
    "    Parameters\n",
    "    ----------\n",
    "    title : str\n",
    "        Title of wikipedia page\n",
    "    Returns\n",
    "    -------\n",
    "    list\n",
    "        IPA representations found.\n",
    "        \n",
    "    >>> get_ipa('France')\n",
    "    ['[fʁɑ̃s]', '[ʁepyblik fʁɑ̃sɛz]']\n",
    "    \n",
    "    \"\"\"\n",
    "    try:\n",
    "        wiki_page = wk.page(title)\n",
    "        soup = BeautifulSoup(wiki_page.html(), 'html5lib')\n",
    "        results = soup.find_all('span', class_=re.compile(r'IPA'))\n",
    "        if results:\n",
    "            return [r.text for r in results]\n",
    "        return ['']\n",
    "    except wk.DisambiguationError as e:\n",
    "        titles = e.options\n",
    "        ipas = [get_ipa(t) for t in titles]\n",
    "        return sum(ipas, [])\n",
    "    except wk.WikipediaException:\n",
    "        return ['']"
   ]
  },
  {
   "cell_type": "markdown",
   "metadata": {},
   "source": [
    "Now we need some words to search for on Wikipedia. We could randomly choose Wikipedia titles using `wk.random()`. Or we could start with one and follow all links on that page. Here, I've decided to search for all words in a wordlist. Most *nix systems have a wordlist at '/usr/share/dict/words'. If you're using something else, just replace the path."
   ]
  },
  {
   "cell_type": "code",
   "execution_count": 3,
   "metadata": {
    "collapsed": true
   },
   "outputs": [],
   "source": [
    "path_to_wordlist = '/usr/share/dict/words'\n",
    "with open(path_to_wordlist) as f:\n",
    "    raw = f.read()\n",
    "words = raw.split()"
   ]
  },
  {
   "cell_type": "markdown",
   "metadata": {},
   "source": [
    "Using all these words is great, but because of how slow it is to get the HTML using `wikipedia`, I'm not going to do that here. Instead, as proof of concept, let's just use a few select words."
   ]
  },
  {
   "cell_type": "code",
   "execution_count": 4,
   "metadata": {
    "collapsed": true
   },
   "outputs": [],
   "source": [
    "words = ['France', 'Napoleon', 'Phonetics', 'Linguistics', 'Australia']"
   ]
  },
  {
   "cell_type": "markdown",
   "metadata": {},
   "source": [
    "Next we take our list of words, make them a column in a dataframe, and use the function from above to get their IPA representations and store them in another column. The return value of that function is a list of varying size, depending on how many IPA representations it found."
   ]
  },
  {
   "cell_type": "code",
   "execution_count": 5,
   "metadata": {
    "collapsed": false
   },
   "outputs": [],
   "source": [
    "raw_df = pd.DataFrame(words, columns=['title'])\n",
    "raw_df['pron'] = raw_df['title'].map(get_ipa)\n",
    "df = raw_df.copy() # make a copy, because it's expensive to create"
   ]
  },
  {
   "cell_type": "markdown",
   "metadata": {},
   "source": [
    "The cell below is some pandas magic for unpacking those variable sized lists into separate columns for each element."
   ]
  },
  {
   "cell_type": "code",
   "execution_count": 6,
   "metadata": {
    "collapsed": false
   },
   "outputs": [],
   "source": [
    "unpacked_prons = df['pron'].apply(pd.Series)\n",
    "df = pd.concat([df['title'], unpacked_prons], axis=1)"
   ]
  },
  {
   "cell_type": "markdown",
   "metadata": {},
   "source": [
    "Now we make a [tidy](https://www.jstatsoft.org/article/view/v059i10) dataframe, where each row is an observation. The resulting dataframe has 2 columns and each title may appear multiple times in the first column."
   ]
  },
  {
   "cell_type": "code",
   "execution_count": 7,
   "metadata": {
    "collapsed": false
   },
   "outputs": [
    {
     "data": {
      "text/html": [
       "<div>\n",
       "<style>\n",
       "    .dataframe thead tr:only-child th {\n",
       "        text-align: right;\n",
       "    }\n",
       "\n",
       "    .dataframe thead th {\n",
       "        text-align: left;\n",
       "    }\n",
       "\n",
       "    .dataframe tbody tr th {\n",
       "        vertical-align: top;\n",
       "    }\n",
       "</style>\n",
       "<table border=\"1\" class=\"dataframe\">\n",
       "  <thead>\n",
       "    <tr style=\"text-align: right;\">\n",
       "      <th></th>\n",
       "      <th>title</th>\n",
       "      <th>ipa</th>\n",
       "    </tr>\n",
       "  </thead>\n",
       "  <tbody>\n",
       "    <tr>\n",
       "      <th>0</th>\n",
       "      <td>France</td>\n",
       "      <td>[fʁɑ̃s]</td>\n",
       "    </tr>\n",
       "    <tr>\n",
       "      <th>1</th>\n",
       "      <td>Napoleon</td>\n",
       "      <td>/nəˈpoʊliən ˈboʊnəpɑːrt/</td>\n",
       "    </tr>\n",
       "    <tr>\n",
       "      <th>2</th>\n",
       "      <td>Phonetics</td>\n",
       "      <td>/fəˈnɛtɪks/</td>\n",
       "    </tr>\n",
       "    <tr>\n",
       "      <th>3</th>\n",
       "      <td>Linguistics</td>\n",
       "      <td></td>\n",
       "    </tr>\n",
       "    <tr>\n",
       "      <th>4</th>\n",
       "      <td>Australia</td>\n",
       "      <td>/əˈstreɪliə/</td>\n",
       "    </tr>\n",
       "  </tbody>\n",
       "</table>\n",
       "</div>"
      ],
      "text/plain": [
       "         title                       ipa\n",
       "0       France                   [fʁɑ̃s]\n",
       "1     Napoleon  /nəˈpoʊliən ˈboʊnəpɑːrt/\n",
       "2    Phonetics               /fəˈnɛtɪks/\n",
       "3  Linguistics                          \n",
       "4    Australia              /əˈstreɪliə/"
      ]
     },
     "execution_count": 7,
     "metadata": {},
     "output_type": "execute_result"
    }
   ],
   "source": [
    "df = pd.melt(df, id_vars=['title'], value_name='ipa')\n",
    "df.drop('variable', axis=1, inplace=True)\n",
    "df.head()"
   ]
  },
  {
   "cell_type": "markdown",
   "metadata": {},
   "source": [
    "Here we clean up a little. We get rid of any empty strings."
   ]
  },
  {
   "cell_type": "code",
   "execution_count": 8,
   "metadata": {
    "collapsed": false
   },
   "outputs": [
    {
     "data": {
      "text/html": [
       "<div>\n",
       "<style>\n",
       "    .dataframe thead tr:only-child th {\n",
       "        text-align: right;\n",
       "    }\n",
       "\n",
       "    .dataframe thead th {\n",
       "        text-align: left;\n",
       "    }\n",
       "\n",
       "    .dataframe tbody tr th {\n",
       "        vertical-align: top;\n",
       "    }\n",
       "</style>\n",
       "<table border=\"1\" class=\"dataframe\">\n",
       "  <thead>\n",
       "    <tr style=\"text-align: right;\">\n",
       "      <th></th>\n",
       "      <th>title</th>\n",
       "      <th>ipa</th>\n",
       "    </tr>\n",
       "  </thead>\n",
       "  <tbody>\n",
       "    <tr>\n",
       "      <th>0</th>\n",
       "      <td>France</td>\n",
       "      <td>[fʁɑ̃s]</td>\n",
       "    </tr>\n",
       "    <tr>\n",
       "      <th>1</th>\n",
       "      <td>Napoleon</td>\n",
       "      <td>/nəˈpoʊliən ˈboʊnəpɑːrt/</td>\n",
       "    </tr>\n",
       "    <tr>\n",
       "      <th>2</th>\n",
       "      <td>Phonetics</td>\n",
       "      <td>/fəˈnɛtɪks/</td>\n",
       "    </tr>\n",
       "    <tr>\n",
       "      <th>4</th>\n",
       "      <td>Australia</td>\n",
       "      <td>/əˈstreɪliə/</td>\n",
       "    </tr>\n",
       "    <tr>\n",
       "      <th>5</th>\n",
       "      <td>France</td>\n",
       "      <td>[ʁepyblik fʁɑ̃sɛz]</td>\n",
       "    </tr>\n",
       "    <tr>\n",
       "      <th>6</th>\n",
       "      <td>Napoleon</td>\n",
       "      <td>[napɔleɔ̃ bɔnapaʁt]</td>\n",
       "    </tr>\n",
       "    <tr>\n",
       "      <th>9</th>\n",
       "      <td>Australia</td>\n",
       "      <td>/ɒ-/</td>\n",
       "    </tr>\n",
       "    <tr>\n",
       "      <th>11</th>\n",
       "      <td>Napoleon</td>\n",
       "      <td>[napoleˈoːne di bwɔnaˈparte]</td>\n",
       "    </tr>\n",
       "    <tr>\n",
       "      <th>14</th>\n",
       "      <td>Australia</td>\n",
       "      <td>/-ljə/</td>\n",
       "    </tr>\n",
       "    <tr>\n",
       "      <th>19</th>\n",
       "      <td>Australia</td>\n",
       "      <td>[əˈstɹæɪljə, -liə]</td>\n",
       "    </tr>\n",
       "  </tbody>\n",
       "</table>\n",
       "</div>"
      ],
      "text/plain": [
       "        title                           ipa\n",
       "0      France                       [fʁɑ̃s]\n",
       "1    Napoleon      /nəˈpoʊliən ˈboʊnəpɑːrt/\n",
       "2   Phonetics                   /fəˈnɛtɪks/\n",
       "4   Australia                  /əˈstreɪliə/\n",
       "5      France            [ʁepyblik fʁɑ̃sɛz]\n",
       "6    Napoleon           [napɔleɔ̃ bɔnapaʁt]\n",
       "9   Australia                          /ɒ-/\n",
       "11   Napoleon  [napoleˈoːne di bwɔnaˈparte]\n",
       "14  Australia                        /-ljə/\n",
       "19  Australia            [əˈstɹæɪljə, -liə]"
      ]
     },
     "execution_count": 8,
     "metadata": {},
     "output_type": "execute_result"
    }
   ],
   "source": [
    "df.replace('', np.nan, inplace=True)\n",
    "df.dropna(inplace=True)\n",
    "df"
   ]
  },
  {
   "cell_type": "markdown",
   "metadata": {},
   "source": [
    "Some Wikipedia pages use `/.../`, some use `[...]`. Let's get rid of both."
   ]
  },
  {
   "cell_type": "code",
   "execution_count": 9,
   "metadata": {
    "collapsed": true
   },
   "outputs": [],
   "source": [
    "def remove_brackets(ipa):\n",
    "    \"\"\"Remove enclosing brackets from IPA representation.\n",
    "    \n",
    "    Parameters\n",
    "    ----------\n",
    "    ipa : str\n",
    "        IPA representation\n",
    "    Returns\n",
    "    -------\n",
    "    str\n",
    "        IPA representations without brackets.\n",
    "        \n",
    "    >>> clean_ipa('[fʁɑ̃s]')\n",
    "    'fʁɑ̃s'\n",
    "    \"\"\"\n",
    "    pat = re.compile(r'/|\\[|\\]')\n",
    "    return re.sub(pat, '', ipa)"
   ]
  },
  {
   "cell_type": "code",
   "execution_count": 10,
   "metadata": {
    "collapsed": false
   },
   "outputs": [
    {
     "data": {
      "text/html": [
       "<div>\n",
       "<style>\n",
       "    .dataframe thead tr:only-child th {\n",
       "        text-align: right;\n",
       "    }\n",
       "\n",
       "    .dataframe thead th {\n",
       "        text-align: left;\n",
       "    }\n",
       "\n",
       "    .dataframe tbody tr th {\n",
       "        vertical-align: top;\n",
       "    }\n",
       "</style>\n",
       "<table border=\"1\" class=\"dataframe\">\n",
       "  <thead>\n",
       "    <tr style=\"text-align: right;\">\n",
       "      <th></th>\n",
       "      <th>title</th>\n",
       "      <th>ipa</th>\n",
       "      <th>cleaned</th>\n",
       "    </tr>\n",
       "  </thead>\n",
       "  <tbody>\n",
       "    <tr>\n",
       "      <th>0</th>\n",
       "      <td>France</td>\n",
       "      <td>[fʁɑ̃s]</td>\n",
       "      <td>fʁɑ̃s</td>\n",
       "    </tr>\n",
       "    <tr>\n",
       "      <th>1</th>\n",
       "      <td>Napoleon</td>\n",
       "      <td>/nəˈpoʊliən ˈboʊnəpɑːrt/</td>\n",
       "      <td>nəˈpoʊliən ˈboʊnəpɑːrt</td>\n",
       "    </tr>\n",
       "    <tr>\n",
       "      <th>2</th>\n",
       "      <td>Phonetics</td>\n",
       "      <td>/fəˈnɛtɪks/</td>\n",
       "      <td>fəˈnɛtɪks</td>\n",
       "    </tr>\n",
       "    <tr>\n",
       "      <th>4</th>\n",
       "      <td>Australia</td>\n",
       "      <td>/əˈstreɪliə/</td>\n",
       "      <td>əˈstreɪliə</td>\n",
       "    </tr>\n",
       "    <tr>\n",
       "      <th>5</th>\n",
       "      <td>France</td>\n",
       "      <td>[ʁepyblik fʁɑ̃sɛz]</td>\n",
       "      <td>ʁepyblik fʁɑ̃sɛz</td>\n",
       "    </tr>\n",
       "    <tr>\n",
       "      <th>6</th>\n",
       "      <td>Napoleon</td>\n",
       "      <td>[napɔleɔ̃ bɔnapaʁt]</td>\n",
       "      <td>napɔleɔ̃ bɔnapaʁt</td>\n",
       "    </tr>\n",
       "    <tr>\n",
       "      <th>9</th>\n",
       "      <td>Australia</td>\n",
       "      <td>/ɒ-/</td>\n",
       "      <td>ɒ-</td>\n",
       "    </tr>\n",
       "    <tr>\n",
       "      <th>11</th>\n",
       "      <td>Napoleon</td>\n",
       "      <td>[napoleˈoːne di bwɔnaˈparte]</td>\n",
       "      <td>napoleˈoːne di bwɔnaˈparte</td>\n",
       "    </tr>\n",
       "    <tr>\n",
       "      <th>14</th>\n",
       "      <td>Australia</td>\n",
       "      <td>/-ljə/</td>\n",
       "      <td>-ljə</td>\n",
       "    </tr>\n",
       "    <tr>\n",
       "      <th>19</th>\n",
       "      <td>Australia</td>\n",
       "      <td>[əˈstɹæɪljə, -liə]</td>\n",
       "      <td>əˈstɹæɪljə, -liə</td>\n",
       "    </tr>\n",
       "  </tbody>\n",
       "</table>\n",
       "</div>"
      ],
      "text/plain": [
       "        title                           ipa                     cleaned\n",
       "0      France                       [fʁɑ̃s]                       fʁɑ̃s\n",
       "1    Napoleon      /nəˈpoʊliən ˈboʊnəpɑːrt/      nəˈpoʊliən ˈboʊnəpɑːrt\n",
       "2   Phonetics                   /fəˈnɛtɪks/                   fəˈnɛtɪks\n",
       "4   Australia                  /əˈstreɪliə/                  əˈstreɪliə\n",
       "5      France            [ʁepyblik fʁɑ̃sɛz]            ʁepyblik fʁɑ̃sɛz\n",
       "6    Napoleon           [napɔleɔ̃ bɔnapaʁt]           napɔleɔ̃ bɔnapaʁt\n",
       "9   Australia                          /ɒ-/                          ɒ-\n",
       "11   Napoleon  [napoleˈoːne di bwɔnaˈparte]  napoleˈoːne di bwɔnaˈparte\n",
       "14  Australia                        /-ljə/                        -ljə\n",
       "19  Australia            [əˈstɹæɪljə, -liə]            əˈstɹæɪljə, -liə"
      ]
     },
     "execution_count": 10,
     "metadata": {},
     "output_type": "execute_result"
    }
   ],
   "source": [
    "df['cleaned'] = df['ipa'].map(remove_brackets)\n",
    "df"
   ]
  },
  {
   "cell_type": "markdown",
   "metadata": {},
   "source": [
    "Looking at the 'cleaned' dataframe, some of the IPA representations aren't what we're looking for. In particular, we've got alternative affixes masquerading as complete pronunciations. This comes from the way we identified IPA in the HTML. We don't want those, so let's filter them out. One way to do that is to find all values with a '-' in them, as that's not any IPA symbol and is used for affixes, and filter them out. We'll define a function to do that."
   ]
  },
  {
   "cell_type": "code",
   "execution_count": 11,
   "metadata": {
    "collapsed": true
   },
   "outputs": [],
   "source": [
    "def is_affix(ipa):\n",
    "    \"\"\"Return True if `ipa` is likely an affix.\n",
    "    \n",
    "    Parameters\n",
    "    ----------\n",
    "    ipa : str\n",
    "        IPA representation\n",
    "    Returns\n",
    "    -------\n",
    "    bool\n",
    "        \n",
    "    >>> is_affix('fʁɑ̃s')\n",
    "    False\n",
    "    >>> is_affix('-ljə')\n",
    "    True\n",
    "    \"\"\"\n",
    "    pat = re.compile(r'-')\n",
    "    return bool(pat.search(ipa))"
   ]
  },
  {
   "cell_type": "code",
   "execution_count": 12,
   "metadata": {
    "collapsed": false
   },
   "outputs": [
    {
     "data": {
      "text/html": [
       "<div>\n",
       "<style>\n",
       "    .dataframe thead tr:only-child th {\n",
       "        text-align: right;\n",
       "    }\n",
       "\n",
       "    .dataframe thead th {\n",
       "        text-align: left;\n",
       "    }\n",
       "\n",
       "    .dataframe tbody tr th {\n",
       "        vertical-align: top;\n",
       "    }\n",
       "</style>\n",
       "<table border=\"1\" class=\"dataframe\">\n",
       "  <thead>\n",
       "    <tr style=\"text-align: right;\">\n",
       "      <th></th>\n",
       "      <th>title</th>\n",
       "      <th>ipa</th>\n",
       "      <th>cleaned</th>\n",
       "      <th>affix</th>\n",
       "    </tr>\n",
       "  </thead>\n",
       "  <tbody>\n",
       "    <tr>\n",
       "      <th>0</th>\n",
       "      <td>France</td>\n",
       "      <td>[fʁɑ̃s]</td>\n",
       "      <td>fʁɑ̃s</td>\n",
       "      <td>False</td>\n",
       "    </tr>\n",
       "    <tr>\n",
       "      <th>1</th>\n",
       "      <td>Napoleon</td>\n",
       "      <td>/nəˈpoʊliən ˈboʊnəpɑːrt/</td>\n",
       "      <td>nəˈpoʊliən ˈboʊnəpɑːrt</td>\n",
       "      <td>False</td>\n",
       "    </tr>\n",
       "    <tr>\n",
       "      <th>2</th>\n",
       "      <td>Phonetics</td>\n",
       "      <td>/fəˈnɛtɪks/</td>\n",
       "      <td>fəˈnɛtɪks</td>\n",
       "      <td>False</td>\n",
       "    </tr>\n",
       "    <tr>\n",
       "      <th>4</th>\n",
       "      <td>Australia</td>\n",
       "      <td>/əˈstreɪliə/</td>\n",
       "      <td>əˈstreɪliə</td>\n",
       "      <td>False</td>\n",
       "    </tr>\n",
       "    <tr>\n",
       "      <th>5</th>\n",
       "      <td>France</td>\n",
       "      <td>[ʁepyblik fʁɑ̃sɛz]</td>\n",
       "      <td>ʁepyblik fʁɑ̃sɛz</td>\n",
       "      <td>False</td>\n",
       "    </tr>\n",
       "    <tr>\n",
       "      <th>6</th>\n",
       "      <td>Napoleon</td>\n",
       "      <td>[napɔleɔ̃ bɔnapaʁt]</td>\n",
       "      <td>napɔleɔ̃ bɔnapaʁt</td>\n",
       "      <td>False</td>\n",
       "    </tr>\n",
       "    <tr>\n",
       "      <th>9</th>\n",
       "      <td>Australia</td>\n",
       "      <td>/ɒ-/</td>\n",
       "      <td>ɒ-</td>\n",
       "      <td>True</td>\n",
       "    </tr>\n",
       "    <tr>\n",
       "      <th>11</th>\n",
       "      <td>Napoleon</td>\n",
       "      <td>[napoleˈoːne di bwɔnaˈparte]</td>\n",
       "      <td>napoleˈoːne di bwɔnaˈparte</td>\n",
       "      <td>False</td>\n",
       "    </tr>\n",
       "    <tr>\n",
       "      <th>14</th>\n",
       "      <td>Australia</td>\n",
       "      <td>/-ljə/</td>\n",
       "      <td>-ljə</td>\n",
       "      <td>True</td>\n",
       "    </tr>\n",
       "    <tr>\n",
       "      <th>19</th>\n",
       "      <td>Australia</td>\n",
       "      <td>[əˈstɹæɪljə, -liə]</td>\n",
       "      <td>əˈstɹæɪljə, -liə</td>\n",
       "      <td>True</td>\n",
       "    </tr>\n",
       "  </tbody>\n",
       "</table>\n",
       "</div>"
      ],
      "text/plain": [
       "        title                           ipa                     cleaned  affix\n",
       "0      France                       [fʁɑ̃s]                       fʁɑ̃s  False\n",
       "1    Napoleon      /nəˈpoʊliən ˈboʊnəpɑːrt/      nəˈpoʊliən ˈboʊnəpɑːrt  False\n",
       "2   Phonetics                   /fəˈnɛtɪks/                   fəˈnɛtɪks  False\n",
       "4   Australia                  /əˈstreɪliə/                  əˈstreɪliə  False\n",
       "5      France            [ʁepyblik fʁɑ̃sɛz]            ʁepyblik fʁɑ̃sɛz  False\n",
       "6    Napoleon           [napɔleɔ̃ bɔnapaʁt]           napɔleɔ̃ bɔnapaʁt  False\n",
       "9   Australia                          /ɒ-/                          ɒ-   True\n",
       "11   Napoleon  [napoleˈoːne di bwɔnaˈparte]  napoleˈoːne di bwɔnaˈparte  False\n",
       "14  Australia                        /-ljə/                        -ljə   True\n",
       "19  Australia            [əˈstɹæɪljə, -liə]            əˈstɹæɪljə, -liə   True"
      ]
     },
     "execution_count": 12,
     "metadata": {},
     "output_type": "execute_result"
    }
   ],
   "source": [
    "df['affix'] = df['cleaned'].map(is_affix)\n",
    "df"
   ]
  },
  {
   "cell_type": "markdown",
   "metadata": {},
   "source": [
    "Great. Now to make sure we don't have to do that all again, let's save it as a csv in the working directory. In particular, we want the pronunciations that are not affixes. The `~` is how we subset a dataframe by a false condition in pandas."
   ]
  },
  {
   "cell_type": "code",
   "execution_count": 13,
   "metadata": {
    "collapsed": true
   },
   "outputs": [],
   "source": [
    "df[~df['affix']].to_csv('wikipedia_ipa.csv', columns=['title', 'cleaned'])"
   ]
  }
 ],
 "metadata": {
  "kernelspec": {
   "display_name": "Python 3",
   "language": "python",
   "name": "python3"
  },
  "language_info": {
   "codemirror_mode": {
    "name": "ipython",
    "version": 3
   },
   "file_extension": ".py",
   "mimetype": "text/x-python",
   "name": "python",
   "nbconvert_exporter": "python",
   "pygments_lexer": "ipython3",
   "version": "3.5.2"
  }
 },
 "nbformat": 4,
 "nbformat_minor": 0
}
