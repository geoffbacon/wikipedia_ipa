{
 "cells": [
  {
   "cell_type": "markdown",
   "metadata": {},
   "source": [
    "## Wikipedia IPA\n",
    "\n",
    "In this notebook, we find the IPA representation for English words by looking up their [Wiktionary](https://www.wiktionary.org/) page. A previous approach used Wikipedia pages and search the content for IPA. Another previous version used the WikiMedia API directly. Thankfully, someone has already done that work for us and packaged it up in [`WiktionaryParser`](https://github.com/Suyash458/WiktionaryParser). This is much quicker than using Wikipedia, and simpler than calling the API ourselves. Most Wiktionary pages have an IPA representation. Some words have many Wikipedia pages associted with them (e.g. [Python](https://en.wikipedia.org/wiki/Python)), and some pages have many IPA representations for their title (e.g. [Edinburgh](https://en.wikipedia.org/wiki/Edinburgh)). In these cases, I collect all IPA representations. For titles with no IPA, nothing is collected. We store everything in a `pandas` dataframe, and eventually save it to disk."
   ]
  },
  {
   "cell_type": "code",
   "execution_count": 2,
   "metadata": {
    "collapsed": false
   },
   "outputs": [],
   "source": [
    "import re\n",
    "import pandas as pd\n",
    "import numpy as np\n",
    "from wiktionaryparser import WiktionaryParser"
   ]
  },
  {
   "cell_type": "markdown",
   "metadata": {},
   "source": [
    "What words shall we search for? Here, I've decided to search for all words in a wordlist. Most *nix systems have a wordlist at '/usr/share/dict/words'. If you're using something else, just replace the path."
   ]
  },
  {
   "cell_type": "code",
   "execution_count": 17,
   "metadata": {
    "collapsed": true
   },
   "outputs": [],
   "source": [
    "path_to_wordlist = '/usr/share/dict/words'\n",
    "with open(path_to_wordlist) as f:\n",
    "    raw = f.read()\n",
    "wordlist = raw.split()"
   ]
  },
  {
   "cell_type": "markdown",
   "metadata": {},
   "source": [
    "It looks like the WiktionaryParser can only retrieve one word at a time. This isn't ideal, for us or for the WikiMedia servers. I may write my own library for parsing Wiktionary data soon. In the mean time, let's just search for a few words that we're interested in by looping over the a list. Make sure they're capitalised as they appear in Wiktionary, otherwise we won't get any data on them."
   ]
  },
  {
   "cell_type": "code",
   "execution_count": 35,
   "metadata": {
    "collapsed": true
   },
   "outputs": [],
   "source": [
    "titles = ['France', 'Napoleon', 'phonetics', 'linguistics', 'Australia']"
   ]
  },
  {
   "cell_type": "code",
   "execution_count": 52,
   "metadata": {
    "collapsed": false
   },
   "outputs": [],
   "source": [
    "parser = WiktionaryParser()\n",
    "words = []"
   ]
  },
  {
   "cell_type": "code",
   "execution_count": 56,
   "metadata": {
    "collapsed": false
   },
   "outputs": [],
   "source": [
    "for title in titles:\n",
    "    data = parser.fetch(title)[0] # If there are multiple pages, just keep the first one.\n",
    "    words.append(data)"
   ]
  },
  {
   "cell_type": "code",
   "execution_count": 63,
   "metadata": {
    "collapsed": false
   },
   "outputs": [
    {
     "data": {
      "text/plain": [
       "['(UK) IPA: /fɹɑːns/, /fɹæns/',\n",
       " '(US) IPA: /fɹæns/',\n",
       " 'Rhymes: -ɑːns, -æns',\n",
       " 'Rhymes: -æns']"
      ]
     },
     "execution_count": 63,
     "metadata": {},
     "output_type": "execute_result"
    }
   ],
   "source": [
    "words[0]['pronunciations']['text']"
   ]
  },
  {
   "cell_type": "markdown",
   "metadata": {},
   "source": [
    "Next we take our list of words, make them a column in a dataframe, and use the function from above to get their IPA representations and store them in another column. The return value of that function is a list of varying size, depending on how many IPA representations it found."
   ]
  },
  {
   "cell_type": "code",
   "execution_count": 5,
   "metadata": {
    "collapsed": false
   },
   "outputs": [],
   "source": [
    "raw_df = pd.DataFrame(words, columns=['title'])\n",
    "raw_df['pron'] = raw_df['title'].map(get_ipa)\n",
    "df = raw_df.copy() # make a copy, because it's expensive to create"
   ]
  },
  {
   "cell_type": "markdown",
   "metadata": {},
   "source": [
    "The cell below is some pandas magic for unpacking those variable sized lists into separate columns for each element."
   ]
  },
  {
   "cell_type": "code",
   "execution_count": 6,
   "metadata": {
    "collapsed": false
   },
   "outputs": [],
   "source": [
    "unpacked_prons = df['pron'].apply(pd.Series)\n",
    "df = pd.concat([df['title'], unpacked_prons], axis=1)"
   ]
  },
  {
   "cell_type": "markdown",
   "metadata": {},
   "source": [
    "Now we make a [tidy](https://www.jstatsoft.org/article/view/v059i10) dataframe, where each row is an observation. The resulting dataframe has 2 columns and each title may appear multiple times in the first column."
   ]
  },
  {
   "cell_type": "code",
   "execution_count": 7,
   "metadata": {
    "collapsed": false
   },
   "outputs": [
    {
     "data": {
      "text/html": [
       "<div>\n",
       "<style>\n",
       "    .dataframe thead tr:only-child th {\n",
       "        text-align: right;\n",
       "    }\n",
       "\n",
       "    .dataframe thead th {\n",
       "        text-align: left;\n",
       "    }\n",
       "\n",
       "    .dataframe tbody tr th {\n",
       "        vertical-align: top;\n",
       "    }\n",
       "</style>\n",
       "<table border=\"1\" class=\"dataframe\">\n",
       "  <thead>\n",
       "    <tr style=\"text-align: right;\">\n",
       "      <th></th>\n",
       "      <th>title</th>\n",
       "      <th>ipa</th>\n",
       "    </tr>\n",
       "  </thead>\n",
       "  <tbody>\n",
       "    <tr>\n",
       "      <th>0</th>\n",
       "      <td>France</td>\n",
       "      <td>[fʁɑ̃s]</td>\n",
       "    </tr>\n",
       "    <tr>\n",
       "      <th>1</th>\n",
       "      <td>Napoleon</td>\n",
       "      <td>/nəˈpoʊliən ˈboʊnəpɑːrt/</td>\n",
       "    </tr>\n",
       "    <tr>\n",
       "      <th>2</th>\n",
       "      <td>Phonetics</td>\n",
       "      <td>/fəˈnɛtɪks/</td>\n",
       "    </tr>\n",
       "    <tr>\n",
       "      <th>3</th>\n",
       "      <td>Linguistics</td>\n",
       "      <td></td>\n",
       "    </tr>\n",
       "    <tr>\n",
       "      <th>4</th>\n",
       "      <td>Australia</td>\n",
       "      <td>/əˈstreɪliə/</td>\n",
       "    </tr>\n",
       "  </tbody>\n",
       "</table>\n",
       "</div>"
      ],
      "text/plain": [
       "         title                       ipa\n",
       "0       France                   [fʁɑ̃s]\n",
       "1     Napoleon  /nəˈpoʊliən ˈboʊnəpɑːrt/\n",
       "2    Phonetics               /fəˈnɛtɪks/\n",
       "3  Linguistics                          \n",
       "4    Australia              /əˈstreɪliə/"
      ]
     },
     "execution_count": 7,
     "metadata": {},
     "output_type": "execute_result"
    }
   ],
   "source": [
    "df = pd.melt(df, id_vars=['title'], value_name='ipa')\n",
    "df.drop('variable', axis=1, inplace=True)\n",
    "df.head()"
   ]
  },
  {
   "cell_type": "markdown",
   "metadata": {},
   "source": [
    "Here we clean up a little. We get rid of any empty strings."
   ]
  },
  {
   "cell_type": "code",
   "execution_count": 8,
   "metadata": {
    "collapsed": false
   },
   "outputs": [
    {
     "data": {
      "text/html": [
       "<div>\n",
       "<style>\n",
       "    .dataframe thead tr:only-child th {\n",
       "        text-align: right;\n",
       "    }\n",
       "\n",
       "    .dataframe thead th {\n",
       "        text-align: left;\n",
       "    }\n",
       "\n",
       "    .dataframe tbody tr th {\n",
       "        vertical-align: top;\n",
       "    }\n",
       "</style>\n",
       "<table border=\"1\" class=\"dataframe\">\n",
       "  <thead>\n",
       "    <tr style=\"text-align: right;\">\n",
       "      <th></th>\n",
       "      <th>title</th>\n",
       "      <th>ipa</th>\n",
       "    </tr>\n",
       "  </thead>\n",
       "  <tbody>\n",
       "    <tr>\n",
       "      <th>0</th>\n",
       "      <td>France</td>\n",
       "      <td>[fʁɑ̃s]</td>\n",
       "    </tr>\n",
       "    <tr>\n",
       "      <th>1</th>\n",
       "      <td>Napoleon</td>\n",
       "      <td>/nəˈpoʊliən ˈboʊnəpɑːrt/</td>\n",
       "    </tr>\n",
       "    <tr>\n",
       "      <th>2</th>\n",
       "      <td>Phonetics</td>\n",
       "      <td>/fəˈnɛtɪks/</td>\n",
       "    </tr>\n",
       "    <tr>\n",
       "      <th>4</th>\n",
       "      <td>Australia</td>\n",
       "      <td>/əˈstreɪliə/</td>\n",
       "    </tr>\n",
       "    <tr>\n",
       "      <th>5</th>\n",
       "      <td>France</td>\n",
       "      <td>[ʁepyblik fʁɑ̃sɛz]</td>\n",
       "    </tr>\n",
       "    <tr>\n",
       "      <th>6</th>\n",
       "      <td>Napoleon</td>\n",
       "      <td>[napɔleɔ̃ bɔnapaʁt]</td>\n",
       "    </tr>\n",
       "    <tr>\n",
       "      <th>9</th>\n",
       "      <td>Australia</td>\n",
       "      <td>/ɒ-/</td>\n",
       "    </tr>\n",
       "    <tr>\n",
       "      <th>11</th>\n",
       "      <td>Napoleon</td>\n",
       "      <td>[napoleˈoːne di bwɔnaˈparte]</td>\n",
       "    </tr>\n",
       "    <tr>\n",
       "      <th>14</th>\n",
       "      <td>Australia</td>\n",
       "      <td>/-ljə/</td>\n",
       "    </tr>\n",
       "    <tr>\n",
       "      <th>19</th>\n",
       "      <td>Australia</td>\n",
       "      <td>[əˈstɹæɪljə, -liə]</td>\n",
       "    </tr>\n",
       "  </tbody>\n",
       "</table>\n",
       "</div>"
      ],
      "text/plain": [
       "        title                           ipa\n",
       "0      France                       [fʁɑ̃s]\n",
       "1    Napoleon      /nəˈpoʊliən ˈboʊnəpɑːrt/\n",
       "2   Phonetics                   /fəˈnɛtɪks/\n",
       "4   Australia                  /əˈstreɪliə/\n",
       "5      France            [ʁepyblik fʁɑ̃sɛz]\n",
       "6    Napoleon           [napɔleɔ̃ bɔnapaʁt]\n",
       "9   Australia                          /ɒ-/\n",
       "11   Napoleon  [napoleˈoːne di bwɔnaˈparte]\n",
       "14  Australia                        /-ljə/\n",
       "19  Australia            [əˈstɹæɪljə, -liə]"
      ]
     },
     "execution_count": 8,
     "metadata": {},
     "output_type": "execute_result"
    }
   ],
   "source": [
    "df.replace('', np.nan, inplace=True)\n",
    "df.dropna(inplace=True)\n",
    "df"
   ]
  },
  {
   "cell_type": "markdown",
   "metadata": {},
   "source": [
    "Some Wikipedia pages use `/.../`, some use `[...]`. Let's get rid of both."
   ]
  },
  {
   "cell_type": "code",
   "execution_count": 9,
   "metadata": {
    "collapsed": true
   },
   "outputs": [],
   "source": [
    "def remove_brackets(ipa):\n",
    "    \"\"\"Remove enclosing brackets from IPA representation.\n",
    "    \n",
    "    Parameters\n",
    "    ----------\n",
    "    ipa : str\n",
    "        IPA representation\n",
    "    Returns\n",
    "    -------\n",
    "    str\n",
    "        IPA representations without brackets.\n",
    "        \n",
    "    >>> clean_ipa('[fʁɑ̃s]')\n",
    "    'fʁɑ̃s'\n",
    "    \"\"\"\n",
    "    pat = re.compile(r'/|\\[|\\]')\n",
    "    return re.sub(pat, '', ipa)"
   ]
  },
  {
   "cell_type": "code",
   "execution_count": 10,
   "metadata": {
    "collapsed": false
   },
   "outputs": [
    {
     "data": {
      "text/html": [
       "<div>\n",
       "<style>\n",
       "    .dataframe thead tr:only-child th {\n",
       "        text-align: right;\n",
       "    }\n",
       "\n",
       "    .dataframe thead th {\n",
       "        text-align: left;\n",
       "    }\n",
       "\n",
       "    .dataframe tbody tr th {\n",
       "        vertical-align: top;\n",
       "    }\n",
       "</style>\n",
       "<table border=\"1\" class=\"dataframe\">\n",
       "  <thead>\n",
       "    <tr style=\"text-align: right;\">\n",
       "      <th></th>\n",
       "      <th>title</th>\n",
       "      <th>ipa</th>\n",
       "      <th>cleaned</th>\n",
       "    </tr>\n",
       "  </thead>\n",
       "  <tbody>\n",
       "    <tr>\n",
       "      <th>0</th>\n",
       "      <td>France</td>\n",
       "      <td>[fʁɑ̃s]</td>\n",
       "      <td>fʁɑ̃s</td>\n",
       "    </tr>\n",
       "    <tr>\n",
       "      <th>1</th>\n",
       "      <td>Napoleon</td>\n",
       "      <td>/nəˈpoʊliən ˈboʊnəpɑːrt/</td>\n",
       "      <td>nəˈpoʊliən ˈboʊnəpɑːrt</td>\n",
       "    </tr>\n",
       "    <tr>\n",
       "      <th>2</th>\n",
       "      <td>Phonetics</td>\n",
       "      <td>/fəˈnɛtɪks/</td>\n",
       "      <td>fəˈnɛtɪks</td>\n",
       "    </tr>\n",
       "    <tr>\n",
       "      <th>4</th>\n",
       "      <td>Australia</td>\n",
       "      <td>/əˈstreɪliə/</td>\n",
       "      <td>əˈstreɪliə</td>\n",
       "    </tr>\n",
       "    <tr>\n",
       "      <th>5</th>\n",
       "      <td>France</td>\n",
       "      <td>[ʁepyblik fʁɑ̃sɛz]</td>\n",
       "      <td>ʁepyblik fʁɑ̃sɛz</td>\n",
       "    </tr>\n",
       "    <tr>\n",
       "      <th>6</th>\n",
       "      <td>Napoleon</td>\n",
       "      <td>[napɔleɔ̃ bɔnapaʁt]</td>\n",
       "      <td>napɔleɔ̃ bɔnapaʁt</td>\n",
       "    </tr>\n",
       "    <tr>\n",
       "      <th>9</th>\n",
       "      <td>Australia</td>\n",
       "      <td>/ɒ-/</td>\n",
       "      <td>ɒ-</td>\n",
       "    </tr>\n",
       "    <tr>\n",
       "      <th>11</th>\n",
       "      <td>Napoleon</td>\n",
       "      <td>[napoleˈoːne di bwɔnaˈparte]</td>\n",
       "      <td>napoleˈoːne di bwɔnaˈparte</td>\n",
       "    </tr>\n",
       "    <tr>\n",
       "      <th>14</th>\n",
       "      <td>Australia</td>\n",
       "      <td>/-ljə/</td>\n",
       "      <td>-ljə</td>\n",
       "    </tr>\n",
       "    <tr>\n",
       "      <th>19</th>\n",
       "      <td>Australia</td>\n",
       "      <td>[əˈstɹæɪljə, -liə]</td>\n",
       "      <td>əˈstɹæɪljə, -liə</td>\n",
       "    </tr>\n",
       "  </tbody>\n",
       "</table>\n",
       "</div>"
      ],
      "text/plain": [
       "        title                           ipa                     cleaned\n",
       "0      France                       [fʁɑ̃s]                       fʁɑ̃s\n",
       "1    Napoleon      /nəˈpoʊliən ˈboʊnəpɑːrt/      nəˈpoʊliən ˈboʊnəpɑːrt\n",
       "2   Phonetics                   /fəˈnɛtɪks/                   fəˈnɛtɪks\n",
       "4   Australia                  /əˈstreɪliə/                  əˈstreɪliə\n",
       "5      France            [ʁepyblik fʁɑ̃sɛz]            ʁepyblik fʁɑ̃sɛz\n",
       "6    Napoleon           [napɔleɔ̃ bɔnapaʁt]           napɔleɔ̃ bɔnapaʁt\n",
       "9   Australia                          /ɒ-/                          ɒ-\n",
       "11   Napoleon  [napoleˈoːne di bwɔnaˈparte]  napoleˈoːne di bwɔnaˈparte\n",
       "14  Australia                        /-ljə/                        -ljə\n",
       "19  Australia            [əˈstɹæɪljə, -liə]            əˈstɹæɪljə, -liə"
      ]
     },
     "execution_count": 10,
     "metadata": {},
     "output_type": "execute_result"
    }
   ],
   "source": [
    "df['cleaned'] = df['ipa'].map(remove_brackets)\n",
    "df"
   ]
  },
  {
   "cell_type": "markdown",
   "metadata": {},
   "source": [
    "Looking at the 'cleaned' dataframe, some of the IPA representations aren't what we're looking for. In particular, we've got alternative affixes masquerading as complete pronunciations. This comes from the way we identified IPA in the HTML. We don't want those, so let's filter them out. One way to do that is to find all values with a '-' in them, as that's not any IPA symbol and is used for affixes, and filter them out. We'll define a function to do that."
   ]
  },
  {
   "cell_type": "code",
   "execution_count": 11,
   "metadata": {
    "collapsed": true
   },
   "outputs": [],
   "source": [
    "def is_affix(ipa):\n",
    "    \"\"\"Return True if `ipa` is likely an affix.\n",
    "    \n",
    "    Parameters\n",
    "    ----------\n",
    "    ipa : str\n",
    "        IPA representation\n",
    "    Returns\n",
    "    -------\n",
    "    bool\n",
    "        \n",
    "    >>> is_affix('fʁɑ̃s')\n",
    "    False\n",
    "    >>> is_affix('-ljə')\n",
    "    True\n",
    "    \"\"\"\n",
    "    pat = re.compile(r'-')\n",
    "    return bool(pat.search(ipa))"
   ]
  },
  {
   "cell_type": "code",
   "execution_count": 12,
   "metadata": {
    "collapsed": false
   },
   "outputs": [
    {
     "data": {
      "text/html": [
       "<div>\n",
       "<style>\n",
       "    .dataframe thead tr:only-child th {\n",
       "        text-align: right;\n",
       "    }\n",
       "\n",
       "    .dataframe thead th {\n",
       "        text-align: left;\n",
       "    }\n",
       "\n",
       "    .dataframe tbody tr th {\n",
       "        vertical-align: top;\n",
       "    }\n",
       "</style>\n",
       "<table border=\"1\" class=\"dataframe\">\n",
       "  <thead>\n",
       "    <tr style=\"text-align: right;\">\n",
       "      <th></th>\n",
       "      <th>title</th>\n",
       "      <th>ipa</th>\n",
       "      <th>cleaned</th>\n",
       "      <th>affix</th>\n",
       "    </tr>\n",
       "  </thead>\n",
       "  <tbody>\n",
       "    <tr>\n",
       "      <th>0</th>\n",
       "      <td>France</td>\n",
       "      <td>[fʁɑ̃s]</td>\n",
       "      <td>fʁɑ̃s</td>\n",
       "      <td>False</td>\n",
       "    </tr>\n",
       "    <tr>\n",
       "      <th>1</th>\n",
       "      <td>Napoleon</td>\n",
       "      <td>/nəˈpoʊliən ˈboʊnəpɑːrt/</td>\n",
       "      <td>nəˈpoʊliən ˈboʊnəpɑːrt</td>\n",
       "      <td>False</td>\n",
       "    </tr>\n",
       "    <tr>\n",
       "      <th>2</th>\n",
       "      <td>Phonetics</td>\n",
       "      <td>/fəˈnɛtɪks/</td>\n",
       "      <td>fəˈnɛtɪks</td>\n",
       "      <td>False</td>\n",
       "    </tr>\n",
       "    <tr>\n",
       "      <th>4</th>\n",
       "      <td>Australia</td>\n",
       "      <td>/əˈstreɪliə/</td>\n",
       "      <td>əˈstreɪliə</td>\n",
       "      <td>False</td>\n",
       "    </tr>\n",
       "    <tr>\n",
       "      <th>5</th>\n",
       "      <td>France</td>\n",
       "      <td>[ʁepyblik fʁɑ̃sɛz]</td>\n",
       "      <td>ʁepyblik fʁɑ̃sɛz</td>\n",
       "      <td>False</td>\n",
       "    </tr>\n",
       "    <tr>\n",
       "      <th>6</th>\n",
       "      <td>Napoleon</td>\n",
       "      <td>[napɔleɔ̃ bɔnapaʁt]</td>\n",
       "      <td>napɔleɔ̃ bɔnapaʁt</td>\n",
       "      <td>False</td>\n",
       "    </tr>\n",
       "    <tr>\n",
       "      <th>9</th>\n",
       "      <td>Australia</td>\n",
       "      <td>/ɒ-/</td>\n",
       "      <td>ɒ-</td>\n",
       "      <td>True</td>\n",
       "    </tr>\n",
       "    <tr>\n",
       "      <th>11</th>\n",
       "      <td>Napoleon</td>\n",
       "      <td>[napoleˈoːne di bwɔnaˈparte]</td>\n",
       "      <td>napoleˈoːne di bwɔnaˈparte</td>\n",
       "      <td>False</td>\n",
       "    </tr>\n",
       "    <tr>\n",
       "      <th>14</th>\n",
       "      <td>Australia</td>\n",
       "      <td>/-ljə/</td>\n",
       "      <td>-ljə</td>\n",
       "      <td>True</td>\n",
       "    </tr>\n",
       "    <tr>\n",
       "      <th>19</th>\n",
       "      <td>Australia</td>\n",
       "      <td>[əˈstɹæɪljə, -liə]</td>\n",
       "      <td>əˈstɹæɪljə, -liə</td>\n",
       "      <td>True</td>\n",
       "    </tr>\n",
       "  </tbody>\n",
       "</table>\n",
       "</div>"
      ],
      "text/plain": [
       "        title                           ipa                     cleaned  affix\n",
       "0      France                       [fʁɑ̃s]                       fʁɑ̃s  False\n",
       "1    Napoleon      /nəˈpoʊliən ˈboʊnəpɑːrt/      nəˈpoʊliən ˈboʊnəpɑːrt  False\n",
       "2   Phonetics                   /fəˈnɛtɪks/                   fəˈnɛtɪks  False\n",
       "4   Australia                  /əˈstreɪliə/                  əˈstreɪliə  False\n",
       "5      France            [ʁepyblik fʁɑ̃sɛz]            ʁepyblik fʁɑ̃sɛz  False\n",
       "6    Napoleon           [napɔleɔ̃ bɔnapaʁt]           napɔleɔ̃ bɔnapaʁt  False\n",
       "9   Australia                          /ɒ-/                          ɒ-   True\n",
       "11   Napoleon  [napoleˈoːne di bwɔnaˈparte]  napoleˈoːne di bwɔnaˈparte  False\n",
       "14  Australia                        /-ljə/                        -ljə   True\n",
       "19  Australia            [əˈstɹæɪljə, -liə]            əˈstɹæɪljə, -liə   True"
      ]
     },
     "execution_count": 12,
     "metadata": {},
     "output_type": "execute_result"
    }
   ],
   "source": [
    "df['affix'] = df['cleaned'].map(is_affix)\n",
    "df"
   ]
  },
  {
   "cell_type": "markdown",
   "metadata": {},
   "source": [
    "Great. Now to make sure we don't have to do that all again, let's save it as a csv in the working directory. In particular, we want the pronunciations that are not affixes. The `~` is how we subset a dataframe by a false condition in pandas."
   ]
  },
  {
   "cell_type": "code",
   "execution_count": 13,
   "metadata": {
    "collapsed": true
   },
   "outputs": [],
   "source": [
    "df[~df['affix']].to_csv('wikipedia_ipa.csv', columns=['title', 'cleaned'])"
   ]
  }
 ],
 "metadata": {
  "kernelspec": {
   "display_name": "Python 3",
   "language": "python",
   "name": "python3"
  },
  "language_info": {
   "codemirror_mode": {
    "name": "ipython",
    "version": 3
   },
   "file_extension": ".py",
   "mimetype": "text/x-python",
   "name": "python",
   "nbconvert_exporter": "python",
   "pygments_lexer": "ipython3",
   "version": "3.5.2"
  }
 },
 "nbformat": 4,
 "nbformat_minor": 0
}
